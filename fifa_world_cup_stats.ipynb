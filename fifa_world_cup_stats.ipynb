{
 "cells": [
  {
   "cell_type": "code",
   "execution_count": 22,
   "metadata": {},
   "outputs": [
    {
     "name": "stdout",
     "output_type": "stream",
     "text": [
      "     Match (team 1 v team 2)          team1         team2  \\\n",
      "0           QATAR vs ECUADOR          QATAR       ECUADOR   \n",
      "1            ENGLAND vs IRAN        ENGLAND          IRAN   \n",
      "2     SENEGAL vs NETHERLANDS        SENEGAL   NETHERLANDS   \n",
      "3     UNITED STATES vs WALES  UNITED STATES         WALES   \n",
      "4  ARGENTINA vs SAUDI ARABIA      ARGENTINA  SAUDI ARABIA   \n",
      "\n",
      "  Possession in contest  Goals team1  Goals team2  Goals in Match  \\\n",
      "0                    8%            0            2               2   \n",
      "1                    9%            6            2               8   \n",
      "2                   11%            0            2               2   \n",
      "3                   10%            1            1               2   \n",
      "4                   12%            1            2               3   \n",
      "\n",
      "   Total attempts team1  Total attempts team2  Goal preventions team1  \\\n",
      "0                     5                     6                       6   \n",
      "1                    13                     8                       8   \n",
      "2                    14                     9                       9   \n",
      "3                     6                     7                       7   \n",
      "4                    14                     3                       4   \n",
      "\n",
      "   Goal preventions team2  Score  Goal attempts in Match  \n",
      "0                       5  0 v 2                      11  \n",
      "1                      13  6 v 2                      21  \n",
      "2                      15  0 v 2                      23  \n",
      "3                       7  1 v 1                      13  \n",
      "4                      14  1 v 2                      17  \n"
     ]
    }
   ],
   "source": [
    "#Importing the CSV file\n",
    "import pandas as pd \n",
    "from tabulate import tabulate\n",
    "\n",
    "\n",
    "df = pd.read_csv(\"fifa_stats.csv\")\n",
    "df.columns = df.columns.str.strip()\n",
    "\n",
    "\n",
    "df['Match (team 1 v team 2)'] = df['team1'] + ' vs ' + df['team2']\n",
    "\n",
    "\n",
    "df['Goals team1'] = df['Goals team1'].astype(int)\n",
    "df['Goals team2'] = df['Goals team2'].astype(int)\n",
    "\n",
    "df ['Goals in Match'] = df['Goals team1'] + df['Goals team2']\n",
    "\n",
    "df['Goals in Match'] = df['Goals in Match'].astype(int)\n",
    "\n",
    "df['Score'] = df['Goals team1'].astype(str) + ' v ' + df['Goals team2'].astype(str)\n",
    "\n",
    "df ['Total attempts team1'] = df['Total attempts team1'].astype(int)\n",
    "df ['Total attempts team2'] = df['Total attempts team2'].astype(int)\n",
    "\n",
    "df[\"Goal attempts in Match\"] = df['Total attempts team1'] + df['Total attempts team2']\n",
    "\n",
    "df['Goal attempts in Match'] = df['Goal attempts in Match'].astype(int)\n",
    "\n",
    "cols = ['Match (team 1 v team 2)'] + [col for col in df.columns if col != 'Match (team 1 v team 2)']\n",
    "\n",
    "df = df[cols]\n",
    "\n",
    "\n",
    "\n",
    "first_column = cols[0]\n",
    "cols.remove('Goals in Match')\n",
    "idx = cols.index('Goals team2')\n",
    "cols.insert(idx + 1, 'Goals in Match')\n",
    "cols = [first_column] + cols[1:]\n",
    "df = df[cols]\n",
    "\n",
    "\n",
    "#df = df.drop(columns=['team1', 'team2'])\n",
    "\n",
    "\n",
    "print(df.head())"
   ]
  },
  {
   "cell_type": "code",
   "execution_count": 23,
   "metadata": {},
   "outputs": [
    {
     "name": "stdout",
     "output_type": "stream",
     "text": [
      "Average Possession: 11.91%\n"
     ]
    }
   ],
   "source": [
    "#Finding the Average Possession\n",
    "\n",
    "df['Possession in contest'] = df['Possession in contest'].str.rstrip('%').astype(float)\n",
    "\n",
    "avg_possession = df['Possession in contest'].mean()\n",
    "\n",
    "\n",
    "print(f\"Average Possession: {avg_possession:.2f}%\")\n"
   ]
  },
  {
   "cell_type": "code",
   "execution_count": 24,
   "metadata": {},
   "outputs": [
    {
     "name": "stdout",
     "output_type": "stream",
     "text": [
      "Average Match Goals: 2.6875\n"
     ]
    }
   ],
   "source": [
    "avg_Goals_in_match = df['Goals in Match'].mean()\n",
    "print(f\"Average Match Goals: {avg_Goals_in_match}\")"
   ]
  },
  {
   "cell_type": "code",
   "execution_count": 25,
   "metadata": {},
   "outputs": [
    {
     "name": "stdout",
     "output_type": "stream",
     "text": [
      "Average Match Goals Attempted: 22.421875\n"
     ]
    }
   ],
   "source": [
    "avg_Goals_attempted_in_match = df['Goal attempts in Match'].mean()\n",
    "print(f\"Average Match Goals Attempted: {avg_Goals_attempted_in_match}\")"
   ]
  },
  {
   "cell_type": "code",
   "execution_count": 29,
   "metadata": {},
   "outputs": [
    {
     "name": "stdout",
     "output_type": "stream",
     "text": [
      "+----+------------------------------+-------+----------------+------------------------+\n",
      "|    |   Match (team 1 v team 2)    | Score | Goals in Match | Goal attempts in Match |\n",
      "+----+------------------------------+-------+----------------+------------------------+\n",
      "| 1  |       ENGLAND vs IRAN        | 6 v 2 |       8        |           21           |\n",
      "| 4  |  ARGENTINA vs SAUDI ARABIA   | 1 v 2 |       3        |           17           |\n",
      "| 7  |     FRANCE vs AUSTRALIA      | 4 v 1 |       5        |           26           |\n",
      "| 9  |       GERMANY vs JAPAN       | 1 v 2 |       3        |           35           |\n",
      "| 14 |      PORTUGAL vs GHANA       | 3 v 2 |       5        |           19           |\n",
      "| 17 |       QATAR vs SENEGAL       | 1 v 3 |       4        |           22           |\n",
      "| 22 |      FRANCE vs DENMARK       | 2 v 1 |       3        |           31           |\n",
      "| 26 |      CROATIA vs CANADA       | 4 v 1 |       5        |           22           |\n",
      "| 28 |      CAMEROON vs SERBIA      | 3 v 3 |       6        |           29           |\n",
      "| 29 |   KOREA REPUBLIC vs GHANA    | 2 v 3 |       5        |           29           |\n",
      "| 33 |      ECUADOR vs SENEGAL      | 1 v 2 |       3        |           23           |\n",
      "| 39 |    SAUDI ARABIA vs MEXICO    | 1 v 2 |       3        |           35           |\n",
      "| 41 |      CANADA vs MOROCCO       | 1 v 2 |       3        |           12           |\n",
      "| 42 |        JAPAN vs SPAIN        | 2 v 1 |       3        |           20           |\n",
      "| 43 |    COSTA RICA vs GERMANY     | 2 v 4 |       6        |           40           |\n",
      "| 45 |  KOREA REPUBLIC vs PORTUGAL  | 2 v 1 |       3        |           24           |\n",
      "| 46 |    SERBIA vs SWITZERLAND     | 2 v 3 |       5        |           25           |\n",
      "| 48 | NETHERLANDS vs UNITED STATES | 3 v 1 |       4        |           29           |\n",
      "| 49 |    ARGENTINA vs AUSTRALIA    | 2 v 1 |       3        |           19           |\n",
      "| 50 |       FRANCE vs POLAND       | 3 v 1 |       4        |           27           |\n",
      "| 53 |   BRAZIL vs KOREA REPUBLIC   | 4 v 1 |       5        |           28           |\n",
      "| 55 |   PORTUGAL vs SWITZERLAND    | 6 v 1 |       7        |           24           |\n",
      "| 57 |   NETHERLANDS vs ARGENTINA   | 2 v 2 |       4        |           20           |\n",
      "| 59 |      ENGLAND vs FRANCE       | 1 v 2 |       3        |           23           |\n",
      "| 62 |      CROATIA vs MOROCCO      | 2 v 1 |       3        |           21           |\n",
      "| 63 |     ARGENTINA vs FRANCE      | 3 v 3 |       6        |           31           |\n",
      "+----+------------------------------+-------+----------------+------------------------+\n"
     ]
    }
   ],
   "source": [
    "match_competitve_goals_scored = df.loc[\n",
    "    (df['Goals in Match'] > avg_Goals_in_match) & \n",
    "    ((df['Goals in Match'] != df['Goals team1']) & (df['Goals in Match'] != df['Goals team2'])),\n",
    "    ['Match (team 1 v team 2)',\n",
    "    'Score',\n",
    "     'Goals in Match',\n",
    "     'Goal attempts in Match'\n",
    "     ]\n",
    "]\n",
    "    \n",
    "print(tabulate(match_competitve_goals_scored, headers='keys', tablefmt='pretty'))\n",
    "\n",
    "\n"
   ]
  },
  {
   "cell_type": "code",
   "execution_count": 28,
   "metadata": {},
   "outputs": [
    {
     "name": "stdout",
     "output_type": "stream",
     "text": [
      "+----+------------------------------+-------+-----------------------+\n",
      "|    |   Match (team 1 v team 2)    | Score | Possession in contest |\n",
      "+----+------------------------------+-------+-----------------------+\n",
      "| 4  |  ARGENTINA vs SAUDI ARABIA   | 1 v 2 |         12.0          |\n",
      "| 5  |      DENMARK vs TUNISIA      | 0 v 0 |         12.0          |\n",
      "| 6  |       MEXICO vs POLAND       | 0 v 0 |         15.0          |\n",
      "| 8  |      MOROCCO vs CROATIA      | 0 v 0 |         12.0          |\n",
      "| 9  |       GERMANY vs JAPAN       | 1 v 2 |         13.0          |\n",
      "| 13 |  URUGUAY vs KOREA REPUBLIC   | 0 v 0 |         13.0          |\n",
      "| 15 |       BRAZIL vs SERBIA       | 2 v 0 |         13.0          |\n",
      "| 16 |        WALES vs IRAN         | 0 v 2 |         16.0          |\n",
      "| 18 |    NETHERLANDS vs ECUADOR    | 1 v 1 |         13.0          |\n",
      "| 20 |     TUNISIA vs AUSTRALIA     | 0 v 1 |         19.0          |\n",
      "| 21 |    POLAND vs SAUDI ARABIA    | 2 v 0 |         14.0          |\n",
      "| 22 |      FRANCE vs DENMARK       | 2 v 1 |         12.0          |\n",
      "| 23 |     ARGENTINA vs MEXICO      | 2 v 0 |         14.0          |\n",
      "| 24 |     JAPAN vs COSTA RICA      | 0 v 1 |         13.0          |\n",
      "| 25 |      BELGIUM vs MOROCCO      | 0 v 2 |         12.0          |\n",
      "| 26 |      CROATIA vs CANADA       | 4 v 1 |         13.0          |\n",
      "| 28 |      CAMEROON vs SERBIA      | 3 v 3 |         13.0          |\n",
      "| 29 |   KOREA REPUBLIC vs GHANA    | 2 v 3 |         15.0          |\n",
      "| 31 |     PORTUGAL vs URUGUAY      | 2 v 0 |         12.0          |\n",
      "| 33 |      ECUADOR vs SENEGAL      | 1 v 2 |         17.0          |\n",
      "| 35 |    IRAN vs UNITED STATES     | 0 v 1 |         13.0          |\n",
      "| 36 |     AUSTRALIA vs DENMARK     | 1 v 0 |         16.0          |\n",
      "| 37 |      TUNISIA vs FRANCE       | 1 v 0 |         14.0          |\n",
      "| 39 |    SAUDI ARABIA vs MEXICO    | 1 v 2 |         17.0          |\n",
      "| 41 |      CANADA vs MOROCCO       | 1 v 2 |         12.0          |\n",
      "| 43 |    COSTA RICA vs GERMANY     | 2 v 4 |         13.0          |\n",
      "| 44 |       GHANA vs URUGUAY       | 0 v 2 |         15.0          |\n",
      "| 46 |    SERBIA vs SWITZERLAND     | 2 v 3 |         14.0          |\n",
      "| 47 |      CAMEROON vs BRAZIL      | 1 v 0 |         13.0          |\n",
      "| 48 | NETHERLANDS vs UNITED STATES | 3 v 1 |         13.0          |\n",
      "| 49 |    ARGENTINA vs AUSTRALIA    | 2 v 1 |         12.0          |\n",
      "| 52 |       JAPAN vs CROATIA       | 1 v 1 |         14.0          |\n",
      "| 58 |     MOROCCO vs PORTUGAL      | 1 v 0 |         13.0          |\n",
      "| 60 |     ARGENTINA vs CROATIA     | 3 v 0 |         12.0          |\n",
      "| 63 |     ARGENTINA vs FRANCE      | 3 v 3 |         14.0          |\n",
      "+----+------------------------------+-------+-----------------------+\n"
     ]
    }
   ],
   "source": [
    "match_competitve_possesion_contest =  df.loc[\n",
    "    (df['Possession in contest'] > avg_possession),\n",
    "    ['Match (team 1 v team 2)',\n",
    "     'Score',\n",
    "     'Possession in contest']\n",
    "]\n",
    "\n",
    "#print (match_competitve_possesion_contest.to_string(index=False))\n",
    "print(tabulate(match_competitve_possesion_contest, headers='keys', tablefmt='pretty'))\n"
   ]
  },
  {
   "cell_type": "code",
   "execution_count": 19,
   "metadata": {},
   "outputs": [
    {
     "name": "stdout",
     "output_type": "stream",
     "text": [
      "+----+------------------------------+-------+----------------+------------------------+\n",
      "|    |   Match (team 1 v team 2)    | Score | Goals in Match | Goal attempts in Match |\n",
      "+----+------------------------------+-------+----------------+------------------------+\n",
      "| 2  |    SENEGAL vs NETHERLANDS    | 0 v 2 |       2        |           23           |\n",
      "| 7  |     FRANCE vs AUSTRALIA      | 4 v 1 |       5        |           26           |\n",
      "| 9  |       GERMANY vs JAPAN       | 1 v 2 |       3        |           35           |\n",
      "| 11 |      BELGIUM vs CANADA       | 1 v 0 |       1        |           30           |\n",
      "| 15 |       BRAZIL vs SERBIA       | 2 v 0 |       2        |           28           |\n",
      "| 16 |        WALES vs IRAN         | 0 v 2 |       2        |           31           |\n",
      "| 21 |    POLAND vs SAUDI ARABIA    | 2 v 0 |       2        |           24           |\n",
      "| 22 |      FRANCE vs DENMARK       | 2 v 1 |       3        |           31           |\n",
      "| 28 |      CAMEROON vs SERBIA      | 3 v 3 |       6        |           29           |\n",
      "| 29 |   KOREA REPUBLIC vs GHANA    | 2 v 3 |       5        |           29           |\n",
      "| 31 |     PORTUGAL vs URUGUAY      | 2 v 0 |       2        |           24           |\n",
      "| 33 |      ECUADOR vs SENEGAL      | 1 v 2 |       3        |           23           |\n",
      "| 34 |       WALES vs ENGLAND       | 0 v 3 |       3        |           24           |\n",
      "| 38 |     POLAND vs ARGENTINA      | 0 v 2 |       2        |           29           |\n",
      "| 39 |    SAUDI ARABIA vs MEXICO    | 1 v 2 |       3        |           35           |\n",
      "| 40 |      CROATIA vs BELGIUM      | 0 v 0 |       0        |           26           |\n",
      "| 43 |    COSTA RICA vs GERMANY     | 2 v 4 |       6        |           40           |\n",
      "| 45 |  KOREA REPUBLIC vs PORTUGAL  | 2 v 1 |       3        |           24           |\n",
      "| 46 |    SERBIA vs SWITZERLAND     | 2 v 3 |       5        |           25           |\n",
      "| 47 |      CAMEROON vs BRAZIL      | 1 v 0 |       1        |           26           |\n",
      "| 48 | NETHERLANDS vs UNITED STATES | 3 v 1 |       4        |           29           |\n",
      "| 50 |       FRANCE vs POLAND       | 3 v 1 |       4        |           27           |\n",
      "| 52 |       JAPAN vs CROATIA       | 1 v 1 |       2        |           28           |\n",
      "| 53 |   BRAZIL vs KOREA REPUBLIC   | 4 v 1 |       5        |           28           |\n",
      "| 55 |   PORTUGAL vs SWITZERLAND    | 6 v 1 |       7        |           24           |\n",
      "| 56 |      CROATIA vs BRAZIL       | 1 v 1 |       2        |           29           |\n",
      "| 59 |      ENGLAND vs FRANCE       | 1 v 2 |       3        |           23           |\n",
      "| 61 |      FRANCE vs MOROCCO       | 2 v 0 |       2        |           27           |\n",
      "| 63 |     ARGENTINA vs FRANCE      | 3 v 3 |       6        |           31           |\n",
      "+----+------------------------------+-------+----------------+------------------------+\n"
     ]
    }
   ],
   "source": [
    "match_competitve_goals_attempts = df.loc[\n",
    "    (df['Goal attempts in Match'] > avg_Goals_attempted_in_match),\n",
    "    ['Match (team 1 v team 2)',\n",
    "     'Score',\n",
    "     'Goals in Match',\n",
    "     'Goal attempts in Match'\n",
    "    ]\n",
    "    \n",
    "]\n",
    "    \n",
    "#print(match_competitve_goals_attempts.to_string(index=False))\n",
    "\n",
    "print(tabulate(match_competitve_goals_attempts, headers='keys', tablefmt='pretty'))\n"
   ]
  },
  {
   "cell_type": "code",
   "execution_count": 18,
   "metadata": {},
   "outputs": [
    {
     "name": "stdout",
     "output_type": "stream",
     "text": [
      "+---+------------------------------+----------------+---------------+-------+------------------------+----------------+-----------------------+\n",
      "|   |   Match (team 1 v team 2)    |     team1      |     team2     | Score | Goal attempts in Match | Goals in Match | Possession in contest |\n",
      "+---+------------------------------+----------------+---------------+-------+------------------------+----------------+-----------------------+\n",
      "| 0 |       GERMANY vs JAPAN       |    GERMANY     |     JAPAN     | 1 v 2 |           35           |       3        |          13%          |\n",
      "| 1 |      FRANCE vs DENMARK       |     FRANCE     |    DENMARK    | 2 v 1 |           31           |       3        |          12%          |\n",
      "| 2 |      CAMEROON vs SERBIA      |    CAMEROON    |    SERBIA     | 3 v 3 |           29           |       6        |          13%          |\n",
      "| 3 |   KOREA REPUBLIC vs GHANA    | KOREA REPUBLIC |     GHANA     | 2 v 3 |           29           |       5        |          15%          |\n",
      "| 4 |      ECUADOR vs SENEGAL      |    ECUADOR     |    SENEGAL    | 1 v 2 |           23           |       3        |          17%          |\n",
      "| 5 |    SAUDI ARABIA vs MEXICO    |  SAUDI ARABIA  |    MEXICO     | 1 v 2 |           35           |       3        |          17%          |\n",
      "| 6 |    COSTA RICA vs GERMANY     |   COSTA RICA   |    GERMANY    | 2 v 4 |           40           |       6        |          13%          |\n",
      "| 7 |    SERBIA vs SWITZERLAND     |     SERBIA     |  SWITZERLAND  | 2 v 3 |           25           |       5        |          14%          |\n",
      "| 8 | NETHERLANDS vs UNITED STATES |  NETHERLANDS   | UNITED STATES | 3 v 1 |           29           |       4        |          13%          |\n",
      "| 9 |     ARGENTINA vs FRANCE      |   ARGENTINA    |    FRANCE     | 3 v 3 |           31           |       6        |          14%          |\n",
      "+---+------------------------------+----------------+---------------+-------+------------------------+----------------+-----------------------+\n"
     ]
    }
   ],
   "source": [
    "# Finding Common Matches across 3 standards\n",
    "set_goals_attempts = set(match_competitve_goals_attempts['Match (team 1 v team 2)'])\n",
    "set_goals_scored = set(match_competitve_goals_scored['Match (team 1 v team 2)'])\n",
    "set_possession_contest = set(match_competitve_possesion_contest['Match (team 1 v team 2)'])\n",
    "\n",
    "top_matches = set_goals_attempts & set_goals_scored & set_possession_contest\n",
    "\n",
    "df_top_matches = df[df['Match (team 1 v team 2)'].isin(top_matches)][[\n",
    "    'Match (team 1 v team 2)', \n",
    "    'team1',  \n",
    "    'team2',\n",
    "    'Score',\n",
    "    'Goal attempts in Match',           \n",
    "    'Goals in Match',            \n",
    "    'Possession in contest'        \n",
    "]].reset_index(drop=True)\n",
    "\n",
    "\n",
    "#print(df_top_matches.tostring(index=False))\n",
    "print(tabulate(df_top_matches, headers='keys', tablefmt='pretty'))\n"
   ]
  },
  {
   "cell_type": "code",
   "execution_count": 166,
   "metadata": {},
   "outputs": [
    {
     "name": "stdout",
     "output_type": "stream",
     "text": [
      "              Team  Appearances\n",
      "0          GERMANY            2\n",
      "1           FRANCE            2\n",
      "2           SERBIA            2\n",
      "3   KOREA REPUBLIC            1\n",
      "4         CAMEROON            1\n",
      "5          ECUADOR            1\n",
      "6     SAUDI ARABIA            1\n",
      "7       COSTA RICA            1\n",
      "8      NETHERLANDS            1\n",
      "9        ARGENTINA            1\n",
      "10           JAPAN            1\n",
      "11         DENMARK            1\n",
      "12           GHANA            1\n",
      "13         SENEGAL            1\n",
      "14          MEXICO            1\n",
      "15     SWITZERLAND            1\n",
      "16   UNITED STATES            1\n"
     ]
    }
   ],
   "source": [
    "team_counts = pd.concat([df_top_matches['team1'], df_top_matches['team2']]).value_counts()\n",
    "\n",
    "df_team_counts = team_counts.reset_index()\n",
    "df_team_counts.columns = ['Team', 'Appearances']\n",
    "\n",
    "print(df_team_counts)\n"
   ]
  }
 ],
 "metadata": {
  "kernelspec": {
   "display_name": "Python 3 (ipykernel)",
   "language": "python",
   "name": "python3"
  },
  "language_info": {
   "codemirror_mode": {
    "name": "ipython",
    "version": 3
   },
   "file_extension": ".py",
   "mimetype": "text/x-python",
   "name": "python",
   "nbconvert_exporter": "python",
   "pygments_lexer": "ipython3",
   "version": "3.12.1"
  }
 },
 "nbformat": 4,
 "nbformat_minor": 4
}
